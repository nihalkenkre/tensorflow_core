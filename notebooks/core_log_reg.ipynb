{
 "cells": [
  {
   "cell_type": "code",
   "execution_count": null,
   "metadata": {},
   "outputs": [],
   "source": [
    "import pandas as pd\n",
    "import numpy as np\n",
    "import tensorflow as tf\n",
    "import tempfile\n",
    "import os\n",
    "import sklearn.metrics\n",
    "\n",
    "from matplotlib import pyplot as plt\n"
   ]
  },
  {
   "cell_type": "code",
   "execution_count": null,
   "metadata": {},
   "outputs": [],
   "source": [
    "df = pd.read_csv('../data/Wisconsin_Breast_Cancer_Data.csv')\n"
   ]
  },
  {
   "cell_type": "code",
   "execution_count": null,
   "metadata": {},
   "outputs": [],
   "source": [
    "train_df = df.sample(frac=0.75, random_state=23)\n",
    "test_df = df.drop(index=train_df.index)\n",
    "\n",
    "train_df.drop(columns=['id'], inplace=True)\n",
    "test_df.drop(columns=['id'], inplace=True)\n",
    "\n",
    "X_train, y_train = train_df.iloc[:, 1:], train_df.iloc[:, 0]\n",
    "X_test, y_test = test_df.iloc[:, 1:], test_df.iloc[:, 0]\n"
   ]
  },
  {
   "cell_type": "code",
   "execution_count": null,
   "metadata": {},
   "outputs": [],
   "source": [
    "y_train = y_train.map({'B': 0, 'M': 1})\n",
    "y_test = y_test.map({'B': 0, 'M': 1})\n",
    "\n",
    "X_train_tf = tf.convert_to_tensor(X_train, dtype=tf.float32)\n",
    "X_test_tf = tf.convert_to_tensor(X_test, dtype=tf.float32)\n",
    "\n",
    "y_train_tf = tf.convert_to_tensor(y_train, dtype=tf.float32)\n",
    "y_test_tf = tf.convert_to_tensor(y_test, dtype=tf.float32)\n"
   ]
  },
  {
   "cell_type": "code",
   "execution_count": null,
   "metadata": {},
   "outputs": [],
   "source": [
    "class Normalize(tf.Module):\n",
    "    def __init__(self, x):\n",
    "        self.mean = tf.Variable(tf.math.reduce_mean(x, axis=0), name='mean')\n",
    "        self.std = tf.Variable(tf.math.reduce_std(x, axis=0), name='std')\n",
    "\n",
    "    def norm(self, x):\n",
    "        return (x - self.mean) / self.std\n",
    "\n",
    "    def unnorm(self, x):\n",
    "        return x * self.std + self.mean\n"
   ]
  },
  {
   "cell_type": "code",
   "execution_count": null,
   "metadata": {},
   "outputs": [],
   "source": [
    "norm_x = Normalize(X_train_tf)\n",
    "\n",
    "X_train_norm = norm_x.norm(X_train_tf)\n",
    "X_test_norm = norm_x.norm(X_test_tf)\n"
   ]
  },
  {
   "cell_type": "code",
   "execution_count": null,
   "metadata": {},
   "outputs": [],
   "source": [
    "def log_loss(labels, logits):\n",
    "    ce = tf.nn.sigmoid_cross_entropy_with_logits(labels=labels, logits=logits)\n",
    "    return tf.math.reduce_mean(ce)\n",
    "\n",
    "\n",
    "class LogisticRegression(tf.Module):\n",
    "    def __init__(self):\n",
    "        self.built = False\n",
    "\n",
    "    @tf.function\n",
    "    def __call__(self, x, train=True):\n",
    "        if not self.built:\n",
    "            rand_w = tf.random.uniform(shape=[x.shape[-1], 1], seed=23)\n",
    "            rand_b = tf.random.uniform(shape=[], seed=23)\n",
    "\n",
    "            self.w = tf.Variable(rand_w, name='rand_w')\n",
    "            self.b = tf.Variable(rand_b, name='rand_b')\n",
    "\n",
    "            self.built = True\n",
    "\n",
    "        y = tf.add(tf.matmul(x, self.w), self.b)\n",
    "        y = tf.squeeze(y, axis=1)\n",
    "\n",
    "        if train:\n",
    "            return y\n",
    "\n",
    "        return tf.sigmoid(y)\n"
   ]
  },
  {
   "cell_type": "code",
   "execution_count": null,
   "metadata": {},
   "outputs": [],
   "source": [
    "def predict_class(y_pred, threshold=0.5):\n",
    "    return tf.cast(y_pred > threshold, tf.float32)\n",
    "\n",
    "\n",
    "def accuracy(y_pred, y):\n",
    "    y_pred = tf.sigmoid(y_pred)\n",
    "    y_pred_class = predict_class(y_pred)\n",
    "\n",
    "    check_equal = tf.cast(tf.abs(y_pred_class - y) < 0.0001, tf.float32)\n",
    "\n",
    "    return tf.reduce_mean(check_equal)\n"
   ]
  },
  {
   "cell_type": "code",
   "execution_count": null,
   "metadata": {},
   "outputs": [],
   "source": [
    "batch_size = 64\n",
    "\n",
    "train_dataset = tf.data.Dataset.from_tensor_slices((X_train_norm, y_train_tf))\n",
    "test_dataset = tf.data.Dataset.from_tensor_slices((X_test_norm, y_test_tf))\n",
    "\n",
    "train_dataset = train_dataset.shuffle(\n",
    "    buffer_size=X_train_norm.shape[0]).batch(batch_size=batch_size)\n",
    "test_dataset = test_dataset.shuffle(\n",
    "    buffer_size=X_test_norm.shape[0]).batch(batch_size=batch_size)\n"
   ]
  },
  {
   "cell_type": "code",
   "execution_count": null,
   "metadata": {},
   "outputs": [],
   "source": [
    "epochs = 200\n",
    "learning_rate = 0.01\n",
    "\n",
    "train_losses, test_losses = [], []\n",
    "train_accs, test_accs = [], []\n",
    "train_f1s, test_f1s = [], []\n",
    "\n",
    "log_reg = LogisticRegression()\n",
    "\n",
    "for epoch in range(epochs):\n",
    "    batch_train_losses = []\n",
    "    batch_test_losses = []\n",
    "    batch_train_accs = []\n",
    "    batch_test_accs = []\n",
    "    batch_train_f1s = []\n",
    "    batch_test_f1s = []\n",
    "\n",
    "    for x_train_fit, y_train_fit in train_dataset:\n",
    "        with tf.GradientTape() as tape:\n",
    "            y_preds = log_reg(x_train_fit)\n",
    "            batch_train_loss = log_loss(\n",
    "                labels=y_train_fit, logits=y_preds)\n",
    "\n",
    "        batch_train_acc = accuracy(y_pred=y_preds, y=y_train_fit)\n",
    "        grads = tape.gradient(batch_train_loss, log_reg.variables)\n",
    "\n",
    "        for g, v in zip(grads, log_reg.variables):\n",
    "            v.assign_sub(learning_rate * g)\n",
    "\n",
    "        batch_train_f1s.append(sklearn.metrics.f1_score(\n",
    "            y_true=tf.cast(y_train_fit, tf.int32), y_pred=tf.cast(y_preds, tf.int32), average='weighted'))\n",
    "\n",
    "        batch_train_losses.append(batch_train_loss)\n",
    "        batch_train_accs.append(batch_train_acc)\n",
    "\n",
    "    for x_test_fit, y_test_fit in test_dataset:\n",
    "        y_preds = log_reg(x_test_fit)\n",
    "\n",
    "        batch_test_loss = log_loss(labels=y_test_fit, logits=y_preds)\n",
    "        batch_test_acc = accuracy(y_pred=y_preds, y=y_test_fit)\n",
    "\n",
    "        batch_test_f1s.append(sklearn.metrics.f1_score(\n",
    "            y_true=tf.cast(y_test_fit, tf.int32), y_pred=tf.cast(y_preds, tf.int32), average='weighted'))\n",
    "\n",
    "        batch_test_losses.append(batch_test_loss)\n",
    "        batch_test_accs.append(batch_test_acc)\n",
    "\n",
    "    train_loss = tf.reduce_mean(batch_train_losses)\n",
    "    train_acc = tf.reduce_mean(batch_train_accs)\n",
    "    train_f1 = tf.reduce_mean(batch_train_f1s)\n",
    "\n",
    "    test_loss = tf.reduce_mean(batch_test_losses)\n",
    "    test_acc = tf.reduce_mean(batch_test_accs)\n",
    "    test_f1 = tf.reduce_mean(batch_test_f1s)\n",
    "\n",
    "    train_losses.append(train_loss)\n",
    "    train_accs.append(train_acc)\n",
    "    train_f1s.append(train_f1)\n",
    "\n",
    "    test_losses.append(test_loss)\n",
    "    test_accs.append(test_acc)\n",
    "    test_f1s.append(test_f1)\n",
    "\n",
    "    if epoch % 10 == 0:\n",
    "        print(\n",
    "            f'Epoch: {epoch} Train Loss {train_loss} Train Accuracy {train_acc} Train F1 {train_f1}')\n",
    "        print(\n",
    "            f'Epoch: {epoch} Test Loss {test_loss} Test Accuracy {test_acc} Test F1 {test_f1}')\n",
    "\n",
    "plt.plot(range(epochs), train_losses, label='Train Loss')\n",
    "plt.plot(range(epochs), test_losses, label='Test Loss')\n",
    "\n",
    "plt.plot(range(epochs), train_accs, label='Train Accuracy')\n",
    "plt.plot(range(epochs), test_accs, label='Test Accuracy')\n",
    "\n",
    "plt.legend()\n"
   ]
  },
  {
   "cell_type": "code",
   "execution_count": null,
   "metadata": {},
   "outputs": [],
   "source": [
    "y_pred_train, y_pred_test = log_reg(X_train_norm, train=False), log_reg(X_test_norm, train=False)\n",
    "y_train_classes, y_test_classes = predict_class(y_pred_train), predict_class(y_pred_test)\n",
    "\n",
    "print(sklearn.metrics.confusion_matrix(y_true=tf.cast(y_train, tf.int32), y_pred=tf.cast(y_pred_train, tf.int32)))\n",
    "print(sklearn.metrics.confusion_matrix(y_true=tf.cast(y_test, tf.int32), y_pred=tf.cast(y_pred_test, tf.int32)))\n"
   ]
  },
  {
   "cell_type": "code",
   "execution_count": null,
   "metadata": {},
   "outputs": [],
   "source": [
    "class ExportModule(tf.Module):\n",
    "    def __init__(self, model, norm_x, class_pred):\n",
    "        self.model = model\n",
    "        self.norm_x = norm_x\n",
    "        self.class_pred = class_pred\n",
    "\n",
    "    @tf.function\n",
    "    def __call__(self, x):\n",
    "        x = self.norm_x.norm(x)\n",
    "        y = self.model(x, train=False)\n",
    "        y = self.class_pred(y)\n",
    "\n",
    "        return y\n",
    "\n",
    "\n",
    "log_reg_export = ExportModule(model=log_reg, norm_x=norm_x, class_pred=predict_class)"
   ]
  },
  {
   "cell_type": "code",
   "execution_count": null,
   "metadata": {},
   "outputs": [],
   "source": [
    "accuracy(y_pred=log_reg_export(X_test_tf), y=y_test_tf)"
   ]
  }
 ],
 "metadata": {
  "kernelspec": {
   "display_name": "Python 3.10.2 ('env': venv)",
   "language": "python",
   "name": "python3"
  },
  "language_info": {
   "codemirror_mode": {
    "name": "ipython",
    "version": 3
   },
   "file_extension": ".py",
   "mimetype": "text/x-python",
   "name": "python",
   "nbconvert_exporter": "python",
   "pygments_lexer": "ipython3",
   "version": "3.10.9"
  },
  "orig_nbformat": 4,
  "vscode": {
   "interpreter": {
    "hash": "1290137bbc8e50884bd9899e47cfc37d7ffa39001df11ba2354098ee8c9a2f5a"
   }
  }
 },
 "nbformat": 4,
 "nbformat_minor": 2
}
