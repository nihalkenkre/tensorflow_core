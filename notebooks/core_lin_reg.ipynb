{
 "cells": [
  {
   "cell_type": "code",
   "execution_count": 15,
   "metadata": {},
   "outputs": [],
   "source": [
    "import tensorflow as tf\n",
    "import numpy as np\n",
    "import pandas as pd\n",
    "from sklearn.model_selection import train_test_split\n"
   ]
  },
  {
   "cell_type": "code",
   "execution_count": 16,
   "metadata": {},
   "outputs": [],
   "source": [
    "df = pd.read_csv('../data/Auto_MPG.csv')\n",
    "df.dropna(inplace=True)"
   ]
  },
  {
   "cell_type": "code",
   "execution_count": 17,
   "metadata": {},
   "outputs": [],
   "source": [
    "X = df.drop(columns='MPG')\n",
    "y = df.MPG\n",
    "\n",
    "X_train, X_test, y_train, y_test = train_test_split(\n",
    "    X, y, test_size=0.2)\n"
   ]
  },
  {
   "cell_type": "code",
   "execution_count": 18,
   "metadata": {},
   "outputs": [],
   "source": [
    "X_train_tf = tf.convert_to_tensor(X_train, dtype=tf.float32)\n",
    "X_test_tf = tf.convert_to_tensor(X_test, dtype=tf.float32)\n",
    "\n",
    "y_train_tf = tf.convert_to_tensor(y_train, dtype=tf.float32)\n",
    "y_test_tf = tf.convert_to_tensor(y_test, dtype=tf.float32)\n"
   ]
  },
  {
   "cell_type": "code",
   "execution_count": 19,
   "metadata": {},
   "outputs": [],
   "source": [
    "def one_hot_origin(X):\n",
    "    origin = tf.cast(X[:, -1], dtype=tf.int32)\n",
    "    origin_oh = tf.one_hot(origin - 1, 3)\n",
    "    return tf.concat([X[:, :-1], origin_oh], axis=1)\n"
   ]
  },
  {
   "cell_type": "code",
   "execution_count": 20,
   "metadata": {},
   "outputs": [],
   "source": [
    "X_train_tf_ohe = one_hot_origin(X_train_tf)\n",
    "X_test_tf_ohe = one_hot_origin(X_test_tf)"
   ]
  },
  {
   "cell_type": "code",
   "execution_count": 21,
   "metadata": {},
   "outputs": [],
   "source": [
    "class Normalize(tf.Module):\n",
    "    def __init__(self, x):\n",
    "        self.mean = tf.math.reduce_mean(x, axis=0)\n",
    "        self.std = tf.math.reduce_std(x, axis=0)\n",
    "\n",
    "    def norm(self, x):\n",
    "        return (x - self.mean) / self.std\n",
    "\n",
    "    def unnorm(self, x):\n",
    "        return (x * self.std) + self.mean\n"
   ]
  },
  {
   "cell_type": "code",
   "execution_count": 22,
   "metadata": {},
   "outputs": [],
   "source": [
    "norm_X = Normalize(X_train_tf_ohe)\n",
    "norm_y = Normalize(y_train_tf)\n",
    "\n",
    "X_train_tf_norm = norm_X.norm(X_train_tf_ohe)\n",
    "X_test_tf_norm = norm_X.norm(X_test_tf_ohe)\n",
    "\n",
    "y_train_tf_norm = norm_y.norm(y_train_tf)\n",
    "y_test_tf_norm = norm_y.norm(y_test_tf)\n"
   ]
  },
  {
   "cell_type": "code",
   "execution_count": 23,
   "metadata": {},
   "outputs": [],
   "source": [
    "class LinearRegression(tf.Module):\n",
    "    def __init__(self):\n",
    "        self.built = False\n",
    "\n",
    "    @tf.function\n",
    "    def __call__(self, x):\n",
    "        if not self.built:\n",
    "            rand_w = tf.random.uniform(shape=[x.shape[1], 1])\n",
    "            rand_b = tf.random.uniform(shape=[])\n",
    "\n",
    "            self.w = tf.Variable(rand_w)\n",
    "            self.b = tf.Variable(rand_b)\n",
    "            self.built = True\n",
    "\n",
    "        y = tf.add(tf.matmul(x, self.w), self.b)\n",
    "        return tf.squeeze(y)\n",
    "\n",
    "def mse_loss(y_preds, y):\n",
    "    return tf.math.reduce_mean(tf.square(y_preds - y))\n"
   ]
  },
  {
   "cell_type": "code",
   "execution_count": 24,
   "metadata": {},
   "outputs": [],
   "source": [
    "batch_size = 64\n",
    "\n",
    "train_dataset = tf.data.Dataset.from_tensor_slices((X_train_tf_norm, y_train_tf_norm))\n",
    "test_dataset = tf.data.Dataset.from_tensor_slices((X_test_tf_norm, y_test_tf_norm))\n",
    "\n",
    "train_dataset = train_dataset.shuffle(buffer_size=X_train_tf_norm.shape[0], reshuffle_each_iteration=True).batch(batch_size=batch_size)\n",
    "test_dataset = test_dataset.shuffle(buffer_size=X_test_tf_norm.shape[0], reshuffle_each_iteration=True).batch(batch_size=batch_size)\n"
   ]
  },
  {
   "cell_type": "code",
   "execution_count": 25,
   "metadata": {},
   "outputs": [
    {
     "name": "stdout",
     "output_type": "stream",
     "text": [
      "WARNING:tensorflow:5 out of the last 702 calls to <function LinearRegression.__call__ at 0x0000024CD5795FC0> triggered tf.function retracing. Tracing is expensive and the excessive number of tracings could be due to (1) creating @tf.function repeatedly in a loop, (2) passing tensors with different shapes, (3) passing Python objects instead of tensors. For (1), please define your @tf.function outside of the loop. For (2), @tf.function has reduce_retracing=True option that can avoid unnecessary retracing. For (3), please refer to https://www.tensorflow.org/guide/function#controlling_retracing and https://www.tensorflow.org/api_docs/python/tf/function for  more details.\n",
      "Train MSE Loss for 0 tf.Tensor(3.4275498, shape=(), dtype=float32)\n",
      "Test MSE Loss for 0 tf.Tensor(2.04565, shape=(), dtype=float32)\n",
      "Train MSE Loss for 10 tf.Tensor(0.37663302, shape=(), dtype=float32)\n",
      "Test MSE Loss for 10 tf.Tensor(0.5153346, shape=(), dtype=float32)\n",
      "Train MSE Loss for 20 tf.Tensor(0.24365158, shape=(), dtype=float32)\n",
      "Test MSE Loss for 20 tf.Tensor(0.31066555, shape=(), dtype=float32)\n",
      "Train MSE Loss for 30 tf.Tensor(0.21178408, shape=(), dtype=float32)\n",
      "Test MSE Loss for 30 tf.Tensor(0.27433997, shape=(), dtype=float32)\n",
      "Train MSE Loss for 40 tf.Tensor(0.20054951, shape=(), dtype=float32)\n",
      "Test MSE Loss for 40 tf.Tensor(0.31167454, shape=(), dtype=float32)\n",
      "Train MSE Loss for 50 tf.Tensor(0.1956386, shape=(), dtype=float32)\n",
      "Test MSE Loss for 50 tf.Tensor(0.28479347, shape=(), dtype=float32)\n",
      "Train MSE Loss for 60 tf.Tensor(0.19269426, shape=(), dtype=float32)\n",
      "Test MSE Loss for 60 tf.Tensor(0.206886, shape=(), dtype=float32)\n",
      "Train MSE Loss for 70 tf.Tensor(0.19022003, shape=(), dtype=float32)\n",
      "Test MSE Loss for 70 tf.Tensor(0.32816485, shape=(), dtype=float32)\n",
      "Train MSE Loss for 80 tf.Tensor(0.18886523, shape=(), dtype=float32)\n",
      "Test MSE Loss for 80 tf.Tensor(0.29536384, shape=(), dtype=float32)\n",
      "Train MSE Loss for 90 tf.Tensor(0.18875921, shape=(), dtype=float32)\n",
      "Test MSE Loss for 90 tf.Tensor(0.32124597, shape=(), dtype=float32)\n"
     ]
    }
   ],
   "source": [
    "epochs = 100\n",
    "learning_rate = 0.01\n",
    "train_losses, test_losses = [], []\n",
    "\n",
    "lin = LinearRegression()\n",
    "\n",
    "for epoch in range(epochs):\n",
    "    batch_losses_train, batch_losses_test = [], []\n",
    "\n",
    "    for X_train, y_train in train_dataset:\n",
    "        with tf.GradientTape() as tape:\n",
    "            y_pred_batch = lin(X_train)\n",
    "            batch_loss = mse_loss(y_pred_batch, y_train)\n",
    "\n",
    "        grads = tape.gradient(batch_loss, lin.variables)\n",
    "        for g, v in zip(grads, lin.variables):\n",
    "            v.assign_sub(learning_rate * g)\n",
    "\n",
    "        batch_losses_train.append(batch_loss)\n",
    "\n",
    "    train_loss = tf.math.reduce_mean(batch_losses_train)\n",
    "    train_losses.append(train_loss)\n",
    "\n",
    "    for X_test, y_test in test_dataset:\n",
    "        y_pred_batch = lin(X_test)\n",
    "        batch_loss = mse_loss(y_pred_batch, y_test)\n",
    "\n",
    "        batch_losses_test.append(batch_loss)\n",
    "\n",
    "    test_loss = tf.math.reduce_mean(batch_losses_test)\n",
    "    test_losses.append(test_loss)\n",
    "\n",
    "    if epoch % 10 == 0:\n",
    "        print('Train MSE Loss for', epoch, train_loss)\n",
    "        print('Test MSE Loss for', epoch, test_loss)\n"
   ]
  },
  {
   "cell_type": "code",
   "execution_count": 26,
   "metadata": {},
   "outputs": [
    {
     "data": {
      "text/plain": [
       "<matplotlib.legend.Legend at 0x24cd587e6b0>"
      ]
     },
     "execution_count": 26,
     "metadata": {},
     "output_type": "execute_result"
    },
    {
     "data": {
      "image/png": "[encoded data removed]",
      "text/plain": [
       "<Figure size 640x480 with 1 Axes>"
      ]
     },
     "metadata": {},
     "output_type": "display_data"
    }
   ],
   "source": [
    "import matplotlib.pyplot as plt\n",
    "\n",
    "plt.plot(range(epochs), train_losses, label='Training Loss')\n",
    "plt.plot(range(epochs), test_losses, label='Testing Loss')\n",
    "plt.legend()"
   ]
  },
  {
   "cell_type": "code",
   "execution_count": 27,
   "metadata": {},
   "outputs": [],
   "source": [
    "class ExportModule(tf.Module):\n",
    "    def __init__(self, model, extract_features, norm_x, norm_y):\n",
    "        self.model = model\n",
    "        self.extract_features = extract_features\n",
    "        self.norm_x = norm_x\n",
    "        self.norm_y = norm_y\n",
    "\n",
    "    def __call__(self, x):\n",
    "        x = self.extract_features(x)\n",
    "        x = self.norm_x.norm(x)\n",
    "        y = self.model(x)\n",
    "        y = self.norm_y.unnorm(y)\n",
    "\n",
    "        return y"
   ]
  },
  {
   "cell_type": "code",
   "execution_count": 28,
   "metadata": {},
   "outputs": [
    {
     "name": "stdout",
     "output_type": "stream",
     "text": [
      "tf.Tensor([24.971668  8.699001 23.500982 19.54038  34.23899 ], shape=(5,), dtype=float32)\n",
      "tf.Tensor([23.8 10.  19.1 19.4 34.1], shape=(5,), dtype=float32)\n"
     ]
    }
   ],
   "source": [
    "lin_export = ExportModule(lin, extract_features=one_hot_origin, norm_x=norm_X, norm_y=norm_y)\n",
    "print(lin_export(X_test_tf)[15:20])\n",
    "print(y_test_tf[15:20])"
   ]
  }
 ],
 "metadata": {
  "kernelspec": {
   "display_name": "Python 3.11.1 ('env': venv)",
   "language": "python",
   "name": "python3"
  },
  "language_info": {
   "codemirror_mode": {
    "name": "ipython",
    "version": 3
   },
   "file_extension": ".py",
   "mimetype": "text/x-python",
   "name": "python",
   "nbconvert_exporter": "python",
   "pygments_lexer": "ipython3",
   "version": "3.10.9"
  },
  "orig_nbformat": 4,
  "vscode": {
   "interpreter": {
    "hash": "1290137bbc8e50884bd9899e47cfc37d7ffa39001df11ba2354098ee8c9a2f5a"
   }
  }
 },
 "nbformat": 4,
 "nbformat_minor": 2
}
